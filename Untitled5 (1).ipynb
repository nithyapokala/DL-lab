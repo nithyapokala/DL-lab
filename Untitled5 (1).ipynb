{
  "nbformat": 4,
  "nbformat_minor": 0,
  "metadata": {
    "colab": {
      "provenance": []
    },
    "kernelspec": {
      "name": "python3",
      "display_name": "Python 3"
    },
    "language_info": {
      "name": "python"
    }
  },
  "cells": [
    {
      "cell_type": "code",
      "execution_count": null,
      "metadata": {
        "id": "gKi8Uc6YelPI"
      },
      "outputs": [],
      "source": []
    },
    {
      "cell_type": "code",
      "source": [
        "from google.colab import drive\n",
        "drive.mount('/content/drive')"
      ],
      "metadata": {
        "id": "hUN--h_Fe--2"
      },
      "execution_count": null,
      "outputs": []
    },
    {
      "cell_type": "markdown",
      "source": [
        "# Using RNN to predict the stock high next *day*"
      ],
      "metadata": {
        "id": "GKJCdOTFfckh"
      }
    },
    {
      "cell_type": "markdown",
      "source": [
        "## Importing the libraries"
      ],
      "metadata": {
        "id": "FHs48PCBfiJA"
      }
    },
    {
      "cell_type": "code",
      "source": [
        "import numpy as np\n",
        "import pandas as pd\n",
        "import tensorflow as tf"
      ],
      "metadata": {
        "id": "Ij-42hrMfg9i"
      },
      "execution_count": null,
      "outputs": []
    },
    {
      "cell_type": "markdown",
      "source": [
        "## Data preprocessing"
      ],
      "metadata": {
        "id": "nKO4VHhUfsZR"
      }
    },
    {
      "cell_type": "code",
      "source": [
        "dataset=pd.read_csv('/content/drive/MyDrive/HUDCO/NIITLTD.NS.csv')\n",
        "training_set = dataset.iloc[:,2:3].values"
      ],
      "metadata": {
        "id": "ozUQ_63Tfp1A"
      },
      "execution_count": null,
      "outputs": []
    },
    {
      "cell_type": "code",
      "source": [
        "training_set.shape"
      ],
      "metadata": {
        "colab": {
          "base_uri": "https://localhost:8080/"
        },
        "id": "uHN4eJTxg2TG",
        "outputId": "dfe16b75-de9d-4955-aad4-0146f4de7ae3"
      },
      "execution_count": null,
      "outputs": [
        {
          "output_type": "execute_result",
          "data": {
            "text/plain": [
              "(249, 1)"
            ]
          },
          "metadata": {},
          "execution_count": 53
        }
      ]
    },
    {
      "cell_type": "markdown",
      "source": [
        "# Feature Scaling"
      ],
      "metadata": {
        "id": "YHTdecZ3hK6i"
      }
    },
    {
      "cell_type": "code",
      "source": [
        "from sklearn.preprocessing import MinMaxScaler\n",
        "sc=MinMaxScaler(feature_range=(0,1))\n",
        "training_set_scaled=sc.fit_transform(training_set)"
      ],
      "metadata": {
        "id": "bf5ekK2ug5ms"
      },
      "execution_count": null,
      "outputs": []
    },
    {
      "cell_type": "markdown",
      "source": [
        "## Creating a datastructure with 30 timesteps and 1 output"
      ],
      "metadata": {
        "id": "_IctspFvhjeX"
      }
    },
    {
      "cell_type": "code",
      "source": [
        "x_train = []\n",
        "y_train = []\n",
        "for i in range(30,249):\n",
        "  x_train.append(training_set_scaled[i-30:i,0])\n",
        "  y_train.append(training_set_scaled[i,0])\n",
        " # x_train,y_train=np.array(x_train),np.array(y_train)"
      ],
      "metadata": {
        "id": "XT8e14_Chb7Y"
      },
      "execution_count": null,
      "outputs": []
    },
    {
      "cell_type": "code",
      "source": [
        "x_train,y_train=np.array(x_train),np.array(y_train)"
      ],
      "metadata": {
        "id": "ZFKS1gSUiTQT"
      },
      "execution_count": null,
      "outputs": []
    },
    {
      "cell_type": "code",
      "source": [
        "x_train.shape"
      ],
      "metadata": {
        "colab": {
          "base_uri": "https://localhost:8080/"
        },
        "id": "nY10oO8pj836",
        "outputId": "feaa628f-c68f-4dee-b52a-792315393dbe"
      },
      "execution_count": null,
      "outputs": [
        {
          "output_type": "execute_result",
          "data": {
            "text/plain": [
              "(219, 30)"
            ]
          },
          "metadata": {},
          "execution_count": 57
        }
      ]
    },
    {
      "cell_type": "markdown",
      "source": [
        "## Reshaping the data"
      ],
      "metadata": {
        "id": "CZ_G1Qh5jtPC"
      }
    },
    {
      "cell_type": "code",
      "source": [
        "x_train = np.reshape(x_train,(219,30,1))"
      ],
      "metadata": {
        "id": "zxl5ad3Wiv1Y"
      },
      "execution_count": null,
      "outputs": []
    },
    {
      "cell_type": "code",
      "source": [
        "x_train.shape"
      ],
      "metadata": {
        "colab": {
          "base_uri": "https://localhost:8080/"
        },
        "id": "a4tTCJzAsBb8",
        "outputId": "aeffbc1c-2355-4fcd-e15c-f87a1b73cdc0"
      },
      "execution_count": null,
      "outputs": [
        {
          "output_type": "execute_result",
          "data": {
            "text/plain": [
              "(219, 30, 1)"
            ]
          },
          "metadata": {},
          "execution_count": 59
        }
      ]
    },
    {
      "cell_type": "markdown",
      "source": [
        "## Building the RNN"
      ],
      "metadata": {
        "id": "iBlfP2bHkMI2"
      }
    },
    {
      "cell_type": "code",
      "source": [
        "from keras.models import Sequential\n",
        "from keras.layers import Dense\n",
        "from keras.layers import LSTM\n",
        "from keras.layers import Dropout"
      ],
      "metadata": {
        "id": "V8UDzweWkLMI"
      },
      "execution_count": null,
      "outputs": []
    },
    {
      "cell_type": "code",
      "source": [
        "regressor = Sequential()"
      ],
      "metadata": {
        "id": "kIOHqHuTlEjV"
      },
      "execution_count": null,
      "outputs": []
    },
    {
      "cell_type": "markdown",
      "source": [
        "## Adding the first LSTM layer"
      ],
      "metadata": {
        "id": "43njfC1QlKIl"
      }
    },
    {
      "cell_type": "code",
      "source": [
        "regressor.add(LSTM(units =50, return_sequences= True, input_shape = (30,1)))\n",
        "regressor.add(Dropout(0.2))\n"
      ],
      "metadata": {
        "id": "9Cw1ilqtlHsS"
      },
      "execution_count": null,
      "outputs": []
    },
    {
      "cell_type": "code",
      "source": [
        "regressor.add(LSTM(units = 50,return_sequences= True))\n",
        "regressor.add(Dropout(0.2))"
      ],
      "metadata": {
        "id": "35fJ7x7MlYCU"
      },
      "execution_count": null,
      "outputs": []
    },
    {
      "cell_type": "code",
      "source": [
        "regressor.add(LSTM(units = 50,return_sequences= True))\n",
        "regressor.add(Dropout(0.2))\n"
      ],
      "metadata": {
        "id": "igyA699HlbYC"
      },
      "execution_count": null,
      "outputs": []
    },
    {
      "cell_type": "code",
      "source": [
        "regressor.add(LSTM(units = 50,return_sequences= False))\n",
        "regressor.add(Dropout(0.2))"
      ],
      "metadata": {
        "id": "Z3SAWgoLlebA"
      },
      "execution_count": null,
      "outputs": []
    },
    {
      "cell_type": "code",
      "source": [
        "regressor.add(Dense(units=1))"
      ],
      "metadata": {
        "id": "MSrPxtOhljmx"
      },
      "execution_count": null,
      "outputs": []
    },
    {
      "cell_type": "code",
      "source": [
        "regressor.compile(optimizer = 'adam', loss = 'mean_squared_error')"
      ],
      "metadata": {
        "id": "52phk8Qclm0s"
      },
      "execution_count": null,
      "outputs": []
    },
    {
      "cell_type": "markdown",
      "source": [
        "## Filling the RNN to the training set"
      ],
      "metadata": {
        "id": "0ssId3multPQ"
      }
    },
    {
      "cell_type": "code",
      "source": [
        "regressor.fit(x_train,y_train,epochs = 100, batch_size = 20)"
      ],
      "metadata": {
        "colab": {
          "base_uri": "https://localhost:8080/"
        },
        "id": "n3wkn5q2lrgY",
        "outputId": "1882dc50-5fe1-4d2e-dc33-64d9184ca80d"
      },
      "execution_count": null,
      "outputs": [
        {
          "output_type": "stream",
          "name": "stdout",
          "text": [
            "Epoch 1/100\n",
            "11/11 [==============================] - 11s 79ms/step - loss: 0.0327\n",
            "Epoch 2/100\n",
            "11/11 [==============================] - 1s 67ms/step - loss: 0.0142\n",
            "Epoch 3/100\n",
            "11/11 [==============================] - 1s 65ms/step - loss: 0.0104\n",
            "Epoch 4/100\n",
            "11/11 [==============================] - 1s 66ms/step - loss: 0.0110\n",
            "Epoch 5/100\n",
            "11/11 [==============================] - 1s 66ms/step - loss: 0.0100\n",
            "Epoch 6/100\n",
            "11/11 [==============================] - 1s 82ms/step - loss: 0.0084\n",
            "Epoch 7/100\n",
            "11/11 [==============================] - 1s 110ms/step - loss: 0.0092\n",
            "Epoch 8/100\n",
            "11/11 [==============================] - 1s 112ms/step - loss: 0.0092\n",
            "Epoch 9/100\n",
            "11/11 [==============================] - 1s 106ms/step - loss: 0.0094\n",
            "Epoch 10/100\n",
            "11/11 [==============================] - 1s 86ms/step - loss: 0.0090\n",
            "Epoch 11/100\n",
            "11/11 [==============================] - 1s 66ms/step - loss: 0.0095\n",
            "Epoch 12/100\n",
            "11/11 [==============================] - 1s 88ms/step - loss: 0.0086\n",
            "Epoch 13/100\n",
            "11/11 [==============================] - 1s 110ms/step - loss: 0.0088\n",
            "Epoch 14/100\n",
            "11/11 [==============================] - 1s 106ms/step - loss: 0.0102\n",
            "Epoch 15/100\n",
            "11/11 [==============================] - 1s 107ms/step - loss: 0.0100\n",
            "Epoch 16/100\n",
            "11/11 [==============================] - 1s 84ms/step - loss: 0.0086\n",
            "Epoch 17/100\n",
            "11/11 [==============================] - 1s 69ms/step - loss: 0.0081\n",
            "Epoch 18/100\n",
            "11/11 [==============================] - 1s 65ms/step - loss: 0.0086\n",
            "Epoch 19/100\n",
            "11/11 [==============================] - 1s 67ms/step - loss: 0.0078\n",
            "Epoch 20/100\n",
            "11/11 [==============================] - 1s 64ms/step - loss: 0.0078\n",
            "Epoch 21/100\n",
            "11/11 [==============================] - 1s 64ms/step - loss: 0.0078\n",
            "Epoch 22/100\n",
            "11/11 [==============================] - 1s 69ms/step - loss: 0.0075\n",
            "Epoch 23/100\n",
            "11/11 [==============================] - 1s 66ms/step - loss: 0.0078\n",
            "Epoch 24/100\n",
            "11/11 [==============================] - 1s 66ms/step - loss: 0.0077\n",
            "Epoch 25/100\n",
            "11/11 [==============================] - 1s 68ms/step - loss: 0.0077\n",
            "Epoch 26/100\n",
            "11/11 [==============================] - 1s 66ms/step - loss: 0.0073\n",
            "Epoch 27/100\n",
            "11/11 [==============================] - 1s 67ms/step - loss: 0.0075\n",
            "Epoch 28/100\n",
            "11/11 [==============================] - 1s 65ms/step - loss: 0.0080\n",
            "Epoch 29/100\n",
            "11/11 [==============================] - 1s 67ms/step - loss: 0.0088\n",
            "Epoch 30/100\n",
            "11/11 [==============================] - 1s 108ms/step - loss: 0.0086\n",
            "Epoch 31/100\n",
            "11/11 [==============================] - 1s 105ms/step - loss: 0.0077\n",
            "Epoch 32/100\n",
            "11/11 [==============================] - 1s 105ms/step - loss: 0.0075\n",
            "Epoch 33/100\n",
            "11/11 [==============================] - 1s 108ms/step - loss: 0.0073\n",
            "Epoch 34/100\n",
            "11/11 [==============================] - 1s 64ms/step - loss: 0.0074\n",
            "Epoch 35/100\n",
            "11/11 [==============================] - 1s 64ms/step - loss: 0.0072\n",
            "Epoch 36/100\n",
            "11/11 [==============================] - 1s 65ms/step - loss: 0.0070\n",
            "Epoch 37/100\n",
            "11/11 [==============================] - 1s 66ms/step - loss: 0.0080\n",
            "Epoch 38/100\n",
            "11/11 [==============================] - 1s 64ms/step - loss: 0.0079\n",
            "Epoch 39/100\n",
            "11/11 [==============================] - 1s 65ms/step - loss: 0.0064\n",
            "Epoch 40/100\n",
            "11/11 [==============================] - 1s 66ms/step - loss: 0.0075\n",
            "Epoch 41/100\n",
            "11/11 [==============================] - 1s 65ms/step - loss: 0.0067\n",
            "Epoch 42/100\n",
            "11/11 [==============================] - 1s 67ms/step - loss: 0.0064\n",
            "Epoch 43/100\n",
            "11/11 [==============================] - 1s 69ms/step - loss: 0.0060\n",
            "Epoch 44/100\n",
            "11/11 [==============================] - 1s 64ms/step - loss: 0.0061\n",
            "Epoch 45/100\n",
            "11/11 [==============================] - 1s 66ms/step - loss: 0.0056\n",
            "Epoch 46/100\n",
            "11/11 [==============================] - 1s 67ms/step - loss: 0.0059\n",
            "Epoch 47/100\n",
            "11/11 [==============================] - 1s 81ms/step - loss: 0.0060\n",
            "Epoch 48/100\n",
            "11/11 [==============================] - 1s 107ms/step - loss: 0.0060\n",
            "Epoch 49/100\n",
            "11/11 [==============================] - 1s 107ms/step - loss: 0.0063\n",
            "Epoch 50/100\n",
            "11/11 [==============================] - 1s 109ms/step - loss: 0.0060\n",
            "Epoch 51/100\n",
            "11/11 [==============================] - 1s 95ms/step - loss: 0.0049\n",
            "Epoch 52/100\n",
            "11/11 [==============================] - 1s 68ms/step - loss: 0.0054\n",
            "Epoch 53/100\n",
            "11/11 [==============================] - 1s 65ms/step - loss: 0.0057\n",
            "Epoch 54/100\n",
            "11/11 [==============================] - 1s 64ms/step - loss: 0.0051\n",
            "Epoch 55/100\n",
            "11/11 [==============================] - 1s 65ms/step - loss: 0.0051\n",
            "Epoch 56/100\n",
            "11/11 [==============================] - 1s 67ms/step - loss: 0.0050\n",
            "Epoch 57/100\n",
            "11/11 [==============================] - 1s 65ms/step - loss: 0.0049\n",
            "Epoch 58/100\n",
            "11/11 [==============================] - 1s 66ms/step - loss: 0.0043\n",
            "Epoch 59/100\n",
            "11/11 [==============================] - 1s 66ms/step - loss: 0.0041\n",
            "Epoch 60/100\n",
            "11/11 [==============================] - 1s 67ms/step - loss: 0.0043\n",
            "Epoch 61/100\n",
            "11/11 [==============================] - 1s 66ms/step - loss: 0.0041\n",
            "Epoch 62/100\n",
            "11/11 [==============================] - 1s 65ms/step - loss: 0.0041\n",
            "Epoch 63/100\n",
            "11/11 [==============================] - 1s 64ms/step - loss: 0.0042\n",
            "Epoch 64/100\n",
            "11/11 [==============================] - 1s 63ms/step - loss: 0.0039\n",
            "Epoch 65/100\n",
            "11/11 [==============================] - 1s 83ms/step - loss: 0.0037\n",
            "Epoch 66/100\n",
            "11/11 [==============================] - 1s 113ms/step - loss: 0.0035\n",
            "Epoch 67/100\n",
            "11/11 [==============================] - 1s 107ms/step - loss: 0.0040\n",
            "Epoch 68/100\n",
            "11/11 [==============================] - 1s 107ms/step - loss: 0.0041\n",
            "Epoch 69/100\n",
            "11/11 [==============================] - 1s 76ms/step - loss: 0.0033\n",
            "Epoch 70/100\n",
            "11/11 [==============================] - 1s 66ms/step - loss: 0.0035\n",
            "Epoch 71/100\n",
            "11/11 [==============================] - 1s 67ms/step - loss: 0.0036\n",
            "Epoch 72/100\n",
            "11/11 [==============================] - 1s 66ms/step - loss: 0.0037\n",
            "Epoch 73/100\n",
            "11/11 [==============================] - 1s 63ms/step - loss: 0.0031\n",
            "Epoch 74/100\n",
            "11/11 [==============================] - 1s 65ms/step - loss: 0.0034\n",
            "Epoch 75/100\n",
            "11/11 [==============================] - 1s 64ms/step - loss: 0.0035\n",
            "Epoch 76/100\n",
            "11/11 [==============================] - 1s 67ms/step - loss: 0.0039\n",
            "Epoch 77/100\n",
            "11/11 [==============================] - 1s 68ms/step - loss: 0.0030\n",
            "Epoch 78/100\n",
            "11/11 [==============================] - 1s 68ms/step - loss: 0.0033\n",
            "Epoch 79/100\n",
            "11/11 [==============================] - 1s 66ms/step - loss: 0.0033\n",
            "Epoch 80/100\n",
            "11/11 [==============================] - 1s 67ms/step - loss: 0.0037\n",
            "Epoch 81/100\n",
            "11/11 [==============================] - 1s 66ms/step - loss: 0.0029\n",
            "Epoch 82/100\n",
            "11/11 [==============================] - 1s 66ms/step - loss: 0.0034\n",
            "Epoch 83/100\n",
            "11/11 [==============================] - 1s 104ms/step - loss: 0.0031\n",
            "Epoch 84/100\n",
            "11/11 [==============================] - 1s 106ms/step - loss: 0.0031\n",
            "Epoch 85/100\n",
            "11/11 [==============================] - 1s 107ms/step - loss: 0.0029\n",
            "Epoch 86/100\n",
            "11/11 [==============================] - 1s 107ms/step - loss: 0.0036\n",
            "Epoch 87/100\n",
            "11/11 [==============================] - 1s 67ms/step - loss: 0.0032\n",
            "Epoch 88/100\n",
            "11/11 [==============================] - 1s 66ms/step - loss: 0.0028\n",
            "Epoch 89/100\n",
            "11/11 [==============================] - 1s 66ms/step - loss: 0.0032\n",
            "Epoch 90/100\n",
            "11/11 [==============================] - 1s 66ms/step - loss: 0.0030\n",
            "Epoch 91/100\n",
            "11/11 [==============================] - 1s 67ms/step - loss: 0.0035\n",
            "Epoch 92/100\n",
            "11/11 [==============================] - 1s 65ms/step - loss: 0.0029\n",
            "Epoch 93/100\n",
            "11/11 [==============================] - 1s 64ms/step - loss: 0.0030\n",
            "Epoch 94/100\n",
            "11/11 [==============================] - 1s 66ms/step - loss: 0.0029\n",
            "Epoch 95/100\n",
            "11/11 [==============================] - 1s 68ms/step - loss: 0.0027\n",
            "Epoch 96/100\n",
            "11/11 [==============================] - 1s 66ms/step - loss: 0.0033\n",
            "Epoch 97/100\n",
            "11/11 [==============================] - 1s 69ms/step - loss: 0.0032\n",
            "Epoch 98/100\n",
            "11/11 [==============================] - 1s 72ms/step - loss: 0.0034\n",
            "Epoch 99/100\n",
            "11/11 [==============================] - 1s 69ms/step - loss: 0.0031\n",
            "Epoch 100/100\n",
            "11/11 [==============================] - 1s 90ms/step - loss: 0.0033\n"
          ]
        },
        {
          "output_type": "execute_result",
          "data": {
            "text/plain": [
              "<keras.callbacks.History at 0x7f8c4a975360>"
            ]
          },
          "metadata": {},
          "execution_count": 68
        }
      ]
    },
    {
      "cell_type": "code",
      "source": [
        "x_train.shape[0]"
      ],
      "metadata": {
        "colab": {
          "base_uri": "https://localhost:8080/"
        },
        "id": "fRTlgfqtly5h",
        "outputId": "ac86e890-0e70-4792-dd7f-fdb989cbf16c"
      },
      "execution_count": null,
      "outputs": [
        {
          "output_type": "execute_result",
          "data": {
            "text/plain": [
              "219"
            ]
          },
          "metadata": {},
          "execution_count": 69
        }
      ]
    },
    {
      "cell_type": "code",
      "source": [
        "x_test = []\n",
        "x_test=training_set_scaled[219:250,0]"
      ],
      "metadata": {
        "id": "Vfc54IwTmxRt"
      },
      "execution_count": null,
      "outputs": []
    },
    {
      "cell_type": "code",
      "source": [
        "x_test = np.array(x_test)"
      ],
      "metadata": {
        "id": "2wHeXrcbuMSg"
      },
      "execution_count": null,
      "outputs": []
    },
    {
      "cell_type": "code",
      "source": [
        "x_test= np.reshape(x_test,(1,30,1))"
      ],
      "metadata": {
        "id": "ev_aFz_8uRPA"
      },
      "execution_count": null,
      "outputs": []
    },
    {
      "cell_type": "code",
      "source": [
        "x_test.shape[1]"
      ],
      "metadata": {
        "colab": {
          "base_uri": "https://localhost:8080/"
        },
        "id": "nlKzBtfEurv-",
        "outputId": "bd386bf1-0722-4254-f003-b3daef0531e5"
      },
      "execution_count": null,
      "outputs": [
        {
          "output_type": "execute_result",
          "data": {
            "text/plain": [
              "30"
            ]
          },
          "metadata": {},
          "execution_count": 73
        }
      ]
    },
    {
      "cell_type": "code",
      "source": [
        "predicted_stock_price = regressor.predict(x_test)\n",
        "predicted_stock_price = sc.inverse_transform(predicted_stock_price)"
      ],
      "metadata": {
        "colab": {
          "base_uri": "https://localhost:8080/"
        },
        "id": "fY0tZbkhvKyJ",
        "outputId": "d079631e-f26a-4857-d9e0-f07aed128d8b"
      },
      "execution_count": null,
      "outputs": [
        {
          "output_type": "stream",
          "name": "stdout",
          "text": [
            "1/1 [==============================] - 2s 2s/step\n"
          ]
        }
      ]
    },
    {
      "cell_type": "code",
      "source": [
        "predicted_stock_price"
      ],
      "metadata": {
        "colab": {
          "base_uri": "https://localhost:8080/"
        },
        "id": "ZYcR1E3ewBfM",
        "outputId": "44eacefe-778b-429c-f214-34e6a14d4f6c"
      },
      "execution_count": null,
      "outputs": [
        {
          "output_type": "execute_result",
          "data": {
            "text/plain": [
              "array([[359.18704]], dtype=float32)"
            ]
          },
          "metadata": {},
          "execution_count": 75
        }
      ]
    },
    {
      "cell_type": "code",
      "source": [],
      "metadata": {
        "id": "j2cLhvGowZZ4"
      },
      "execution_count": null,
      "outputs": []
    }
  ]
}